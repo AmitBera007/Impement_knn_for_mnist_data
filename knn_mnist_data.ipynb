{
 "cells": [
  {
   "cell_type": "code",
   "execution_count": 1,
   "id": "9b5bf43e",
   "metadata": {},
   "outputs": [],
   "source": [
    "import gzip\n",
    "import numpy as np\n",
    "import matplotlib.pyplot as plt\n",
    "from joblib import Parallel, delayed\n"
   ]
  },
  {
   "cell_type": "markdown",
   "id": "55c9e6c7",
   "metadata": {},
   "source": [
    "# Read MNIST data:\n",
    "There are many [ways](https://stackoverflow.com/questions/40427435/extract-images-from-idx3-ubyte-file-or-gzip-via-python) you can read the MNIST data. Here is a [way](https://stackoverflow.com/a/62781370) to read all the information."
   ]
  },
  {
   "cell_type": "code",
   "execution_count": 2,
   "id": "47ce6c3c",
   "metadata": {},
   "outputs": [
    {
     "name": "stdout",
     "output_type": "stream",
     "text": [
      "Train data (X) size: (60000, 28, 28), and labels (Y) size: (60000,)\n",
      "Test data (X) size: (10000, 28, 28), and labels (Y) size: (10000,)\n"
     ]
    },
    {
     "data": {
      "image/png": "[encoded data removed]",
      "text/plain": [
       "<Figure size 640x480 with 1 Axes>"
      ]
     },
     "metadata": {},
     "output_type": "display_data"
    },
    {
     "name": "stdout",
     "output_type": "stream",
     "text": [
      "Train image 18647-th sample \n",
      "[[  0   0   0   0   0   0   0   0   0   0   0   0   0   0   0   0   0   0\n",
      "    0   0   0   0   0   0   0   0   0   0]\n",
      " [  0   0   0   0   0   0   0   0   0   0   0   0   0   0   0   0   0   0\n",
      "    0   0   0   0   0   0   0   0   0   0]\n",
      " [  0   0   0   0   0   0   0   0   0   0   0   0   0   0   0   0   0   0\n",
      "    0   0   0   0   0   0   0   0   0   0]\n",
      " [  0   0   0   0   0   0   0   0   0   0   0   0   0   0   0   0   0   0\n",
      "    0   0   0   0   0   0   0   0   0   0]\n",
      " [  0   0   0   0   0   0   0   0   0   0   0  15 115 188 255  52   0   0\n",
      "    0   0   0   0   0   0   0   0   0   0]\n",
      " [  0   0   0   0   0   0   0   0   0   0   0  77  38  49 254 170   0   0\n",
      "    0   0   0   0   0   0   0   0   0   0]\n",
      " [  0   0   0   0   0   0   0   0   0   0   0  21   0  95 254 215   0   0\n",
      "    0   0   0   0   0   0   0   0   0   0]\n",
      " [  0   0   0   0   0   0   0   0   0   0   0   0   0  95 254 240  38   0\n",
      "    0   0   0   0   0   0   0   0   0   0]\n",
      " [  0   0   0   0   0   0   0   0   0   0   0   0   0 164 254 253  56   0\n",
      "    0   0   0   0   0   0   0   0   0   0]\n",
      " [  0   0   0   0   0   0   0   0   0   0   0   0   0  95 254 253  56   0\n",
      "    0   0   0   0   0   0   0   0   0   0]\n",
      " [  0   0   0   0   0   0   0   0   0   0   0   0   0  95 254 253  56   0\n",
      "    0   0   0   0   0   0   0   0   0   0]\n",
      " [  0   0   0   0   0   0   0   0   0   0   0   0   0 185 254 253  56   0\n",
      "    0   0   0   0   0   0   0   0   0   0]\n",
      " [  0   0   0   0   0   0   0   0   0   0   0   0   0 188 254 253  56   0\n",
      "    0   0   0   0   0   0   0   0   0   0]\n",
      " [  0   0   0   0   0   0   0   0   0   0   0   0   0 188 254 253  56   0\n",
      "    0   0   0   0   0   0   0   0   0   0]\n",
      " [  0   0   0   0   0   0   0   0   0   0   0   0   0 188 255 254  56   0\n",
      "    0   0   0   0   0   0   0   0   0   0]\n",
      " [  0   0   0   0   0   0   0   0   0   0   0   0   0 188 254 253  56   0\n",
      "    0   0   0   0   0   0   0   0   0   0]\n",
      " [  0   0   0   0   0   0   0   0   0   0   0   0  12 214 254 253  56   0\n",
      "    0   0   0   0   0   0   0   0   0   0]\n",
      " [  0   0   0   0   0   0   0   0   0   0   0   0  29 253 254 241  40   0\n",
      "    0   0   0   0   0   0   0   0   0   0]\n",
      " [  0   0   0   0   0   0   0   0   0   0   0   0  29 253 254 215   0   0\n",
      "    0   0   0   0   0   0   0   0   0   0]\n",
      " [  0   0   0   0   0   0   0   0   0   0   0   0  29 253 254  97   0   0\n",
      "    0   0   0   0   0   0   0   0   0   0]\n",
      " [  0   0   0   0   0   0   0   0   0   0   0   0 127 253 254  28   0   0\n",
      "    0   0   0   0   0   0   0   0   0   0]\n",
      " [  0   0   0   0   0   0   0   0   0   0   0  34 238 253 193  12   0   0\n",
      "    0   0   0   0   0   0   0   0   0   0]\n",
      " [  0   0   0   0   0   0   0   0   0   0   0  57 253 253  14   0   0   0\n",
      "    0   0   0   0   0   0   0   0   0   0]\n",
      " [  0   0   0   0   0   0   0   0   0   0   0  57 253 148   0   0   0   0\n",
      "    0   0   0   0   0   0   0   0   0   0]\n",
      " [  0   0   0   0   0   0   0   0   0   0   0   0   0   0   0   0   0   0\n",
      "    0   0   0   0   0   0   0   0   0   0]\n",
      " [  0   0   0   0   0   0   0   0   0   0   0   0   0   0   0   0   0   0\n",
      "    0   0   0   0   0   0   0   0   0   0]\n",
      " [  0   0   0   0   0   0   0   0   0   0   0   0   0   0   0   0   0   0\n",
      "    0   0   0   0   0   0   0   0   0   0]\n",
      " [  0   0   0   0   0   0   0   0   0   0   0   0   0   0   0   0   0   0\n",
      "    0   0   0   0   0   0   0   0   0   0]]\n"
     ]
    }
   ],
   "source": [
    "def read_images(filename):\n",
    "    \"\"\"Read MNIST images\"\"\"\n",
    "    \n",
    "    with gzip.open(filename, 'r') as f:\n",
    "        # first 4 bytes is a magic number\n",
    "        magic_number = int.from_bytes(f.read(4), 'big')\n",
    "        # second 4 bytes is the number of images\n",
    "        image_count = int.from_bytes(f.read(4), 'big')\n",
    "        # third 4 bytes is the row count\n",
    "        row_count = int.from_bytes(f.read(4), 'big')\n",
    "        # fourth 4 bytes is the column count\n",
    "        column_count = int.from_bytes(f.read(4), 'big')\n",
    "        # rest is the image pixel data, each pixel is stored as an unsigned byte\n",
    "        # pixel values are 0 to 255\n",
    "        image_data = f.read()\n",
    "        images = np.frombuffer(image_data, dtype=np.uint8).reshape((image_count, row_count, column_count))\n",
    "        \n",
    "    return images\n",
    "\n",
    "def read_labels(filename):\n",
    "    \"\"\"Read MNIST labels\"\"\"\n",
    "    \n",
    "    with gzip.open(filename, 'r') as f:\n",
    "        # first 4 bytes is a magic number\n",
    "        magic_number = int.from_bytes(f.read(4), 'big')\n",
    "        # second 4 bytes is the number of labels\n",
    "        label_count = int.from_bytes(f.read(4), 'big')\n",
    "        # rest is the label data, each label is stored as unsigned byte\n",
    "        # label values are 0 to 9\n",
    "        label_data = f.read()\n",
    "        labels = np.frombuffer(label_data, dtype=np.uint8)\n",
    "        \n",
    "    return labels\n",
    "\n",
    "\n",
    "dataset_path = '/home/sysadm/Desktop/ML_Assignment'     # Change your data path\n",
    "\n",
    "train_image_filename = ''.join([dataset_path, 'train-images-idx3-ubyte.gz'])\n",
    "train_label_filename = ''.join([dataset_path, 'train-labels-idx1-ubyte.gz'])\n",
    "\n",
    "test_image_filename = ''.join([dataset_path, 't10k-images-idx3-ubyte.gz'])\n",
    "test_label_filename = ''.join([dataset_path, 't10k-labels-idx1-ubyte.gz'])\n",
    "\n",
    "train_images = read_images('train-images-idx3-ubyte.gz')\n",
    "train_labels = read_labels('train-labels-idx1-ubyte.gz')\n",
    "print('Train data (X) size: {}, and labels (Y) size: {}' .format(train_images.shape, train_labels.shape))\n",
    "\n",
    "test_images = read_images('t10k-images-idx3-ubyte.gz')\n",
    "test_labels = read_labels('t10k-labels-idx1-ubyte.gz')\n",
    "print('Test data (X) size: {}, and labels (Y) size: {}' .format(test_images.shape, test_labels.shape))\n",
    "\n",
    "rand_ids = np.random.choice(train_images.shape[0])\n",
    "plt.imshow(train_images[rand_ids, :, :], cmap='gray')\n",
    "plt.title('class-'+str(train_labels[rand_ids]))\n",
    "plt.show()\n",
    "\n",
    "print('Train image {}-th sample ' .format(rand_ids))\n",
    "print(train_images[rand_ids, :, :])\n",
    "\n"
   ]
  },
  {
   "cell_type": "markdown",
   "id": "54daa6a9",
   "metadata": {},
   "source": [
    "# Extract 20% data from the training data as a validation set. <font color='red'>Please do not use some standard function from scikit-learn or others!</font>"
   ]
  },
  {
   "cell_type": "code",
   "execution_count": 7,
   "id": "6c00f332",
   "metadata": {},
   "outputs": [
    {
     "name": "stdout",
     "output_type": "stream",
     "text": [
      "Image training set size: 48000\n",
      "Image validation set size: 12000\n",
      "Label training set size: 48000\n",
      "Label validation set size: 12000\n"
     ]
    }
   ],
   "source": [
    "# Define the size of the validation set (e.g., 20%)\n",
    "validation_ratio = 0.2\n",
    "\n",
    "# Shuffle the indices of the training data\n",
    "num_samples = len(train_images)\n",
    "indices = np.random.permutation(num_samples)\n",
    "\n",
    "# Calculate the number of samples for the validation set\n",
    "num_validation_samples = int(validation_ratio * num_samples)\n",
    "\n",
    "# Split the training data into training and validation sets\n",
    "validation_indices = indices[:num_validation_samples]\n",
    "training_indices = indices[num_validation_samples:]\n",
    "\n",
    "# Extract the validation set and update the training set\n",
    "image_validation = train_images[validation_indices].astype(np.float32)\n",
    "label_validation = train_labels[validation_indices]\n",
    "\n",
    "train_images_new = train_images[training_indices].astype(np.float32)\n",
    "train_labels_new = train_labels[training_indices]\n",
    "\n",
    "print(\"Image training set size:\", len(train_images_new))\n",
    "print(\"Image validation set size:\", len(image_validation))\n",
    "print(\"Label training set size:\", len(train_labels_new))\n",
    "print(\"Label validation set size:\", len(label_validation))\n"
   ]
  },
  {
   "cell_type": "markdown",
   "id": "d7570a8f",
   "metadata": {},
   "source": [
    "# Implement k-NN classification rule/algorithm, we have discussed in our class. <font color='red'>Please do not use some standard function from scikit-learn or others!</font>"
   ]
  },
  {
   "cell_type": "code",
   "execution_count": 4,
   "id": "9a5077fc",
   "metadata": {},
   "outputs": [
    {
     "name": "stdout",
     "output_type": "stream",
     "text": [
      "[[0.855  0.8625 0.865  0.87   0.87   0.875  0.87   0.87   0.875  0.88\n",
      "  0.8925 0.8925 0.9025]\n",
      " [0.8825 0.885  0.8775 0.8825 0.8875 0.8875 0.89   0.895  0.8975 0.8875\n",
      "  0.895  0.905  0.905 ]\n",
      " [0.585  0.585  0.5725 0.585  0.6    0.5975 0.575  0.6025 0.615  0.615\n",
      "  0.6075 0.61   0.6425]]\n",
      "[[0.145  0.1375 0.135  0.13   0.13   0.125  0.13   0.13   0.125  0.12\n",
      "  0.1075 0.1075 0.0975]\n",
      " [0.1175 0.115  0.1225 0.1175 0.1125 0.1125 0.11   0.105  0.1025 0.1125\n",
      "  0.105  0.095  0.095 ]\n",
      " [0.415  0.415  0.4275 0.415  0.4    0.4025 0.425  0.3975 0.385  0.385\n",
      "  0.3925 0.39   0.3575]]\n"
     ]
    }
   ],
   "source": [
    "\n",
    "def knn_predict(x_train, y_train, x_test, k, p):\n",
    "    if p == 1:\n",
    "        distances = np.sum(np.abs(x_train - x_test), axis=(1, 2))    # manhattan_distance\n",
    "    elif p == 2:\n",
    "        distances = np.sqrt(np.sum((x_train - x_test)**2, axis=(1, 2)))  # euclidean_distance\n",
    "    elif p == 'inf':\n",
    "        distances = np.max(np.abs(x_train - x_test), axis=(1, 2))    # chebyshev_distance\n",
    "\n",
    "    nearest_indices = np.argsort(distances)[:k]\n",
    "    labels = y_train[nearest_indices]\n",
    "    prediction = np.argmax(np.bincount(labels))\n",
    "    return prediction\n",
    "\n",
    "# Define the range of p and k values to test\n",
    "p_values = [1, 2, 'inf']\n",
    "k_values = [25, 23, 21, 19, 17, 15 ,13, 11, 9, 7, 5, 3, 1]\n",
    "\n",
    "# Initialize lists to store accuracy/error rates\n",
    "accuracies = []\n",
    "errors = []\n",
    "\n",
    "for p in p_values:\n",
    "    for k in k_values:\n",
    "        correct = 0\n",
    "        for i in range(len(image_validation)):\n",
    "            prediction = knn_predict(train_images_new, train_labels_new, image_validation[i], k, p)\n",
    "            if prediction == label_validation[i]:\n",
    "                correct += 1\n",
    "        accuracy = correct / len(image_validation)\n",
    "        accuracies.append(accuracy)\n",
    "        errors.append(1 - accuracy)\n",
    "\n",
    "# Reshape the results for plotting\n",
    "accuracies = np.array(accuracies).reshape(len(p_values), len(k_values))\n",
    "errors = np.array(errors).reshape(len(p_values), len(k_values))\n",
    "print(accuracies)\n",
    "print(errors)\n"
   ]
  },
  {
   "cell_type": "code",
   "execution_count": 5,
   "metadata": {},
   "outputs": [
    {
     "data": {
      "image/png": "[encoded data removed]",
      "text/plain": [
       "<Figure size 1200x600 with 4 Axes>"
      ]
     },
     "metadata": {},
     "output_type": "display_data"
    }
   ],
   "source": [
    "# Plot the results\n",
    "plt.figure(figsize=(12, 6))\n",
    "\n",
    "plt.subplot(1, 2, 1)\n",
    "plt.imshow(accuracies, cmap='viridis', interpolation='nearest')\n",
    "plt.colorbar()\n",
    "plt.xticks(range(len(k_values)), k_values)\n",
    "plt.yticks(range(len(p_values)), p_values)\n",
    "plt.xlabel('k')\n",
    "plt.ylabel('p')\n",
    "plt.title('KNN Classification Accuracy')\n",
    "\n",
    "plt.subplot(1, 2, 2)\n",
    "plt.imshow(errors, cmap='viridis', interpolation='nearest')\n",
    "plt.colorbar()\n",
    "plt.xticks(range(len(k_values)), k_values)\n",
    "plt.yticks(range(len(p_values)), p_values)\n",
    "plt.xlabel('k')\n",
    "plt.ylabel('p')\n",
    "plt.title('KNN Classification Error Rate')\n",
    "\n",
    "plt.tight_layout()\n",
    "plt.show()"
   ]
  }
 ],
 "metadata": {
  "kernelspec": {
   "display_name": "Python 3 (ipykernel)",
   "language": "python",
   "name": "python3"
  },
  "language_info": {
   "codemirror_mode": {
    "name": "ipython",
    "version": 3
   },
   "file_extension": ".py",
   "mimetype": "text/x-python",
   "name": "python",
   "nbconvert_exporter": "python",
   "pygments_lexer": "ipython3",
   "version": "3.12.1"
  }
 },
 "nbformat": 4,
 "nbformat_minor": 5
}
